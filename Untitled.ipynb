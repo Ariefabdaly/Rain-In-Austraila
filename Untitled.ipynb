{
 "cells": [
  {
   "cell_type": "markdown",
   "id": "4643248a",
   "metadata": {},
   "source": [
    "2 title.png"
   ]
  },
  {
   "cell_type": "markdown",
   "id": "dacbfb1d",
   "metadata": {},
   "source": [
    "# This is my first project"
   ]
  },
  {
   "cell_type": "markdown",
   "id": "5605befa",
   "metadata": {},
   "source": [
    "In my first project I have learned jupyter notebook , and some important  data science tools and some lamguages used for data science"
   ]
  },
  {
   "cell_type": "markdown",
   "id": "b32a30ab",
   "metadata": {},
   "source": [
    "popular data science languages.\n",
    "1) Python\n",
    "2) R\n",
    "3) sql\n",
    "4) julia\n",
    "5) Scala"
   ]
  },
  {
   "cell_type": "markdown",
   "id": "20aaecf5",
   "metadata": {},
   "source": [
    "DATA science Libraries\n",
    "1) Pandas\n",
    "2) Tensor Flow\n",
    "3) Keras\n",
    "4) Pytorch\n",
    "5) Matplotlib\n",
    "6) Scikit-Learn"
   ]
  },
  {
   "cell_type": "markdown",
   "id": "e275086a",
   "metadata": {},
   "source": [
    "Data science tools\n",
    " \n",
    "1)Apache Spark\n",
    "2)Bigml"
   ]
  },
  {
   "cell_type": "code",
   "execution_count": null,
   "id": "264bd705",
   "metadata": {},
   "outputs": [],
   "source": []
  },
  {
   "cell_type": "markdown",
   "id": "4bab987f",
   "metadata": {},
   "source": [
    "Few examples of evaluating arithmetic expression in python"
   ]
  },
  {
   "cell_type": "code",
   "execution_count": 2,
   "id": "6b236a1d",
   "metadata": {},
   "outputs": [
    {
     "data": {
      "text/plain": [
       "5"
      ]
     },
     "execution_count": 2,
     "metadata": {},
     "output_type": "execute_result"
    }
   ],
   "source": [
    "x= compile(\"2+3\",\"<string>\",\"eval\")\n",
    "eval(x)"
   ]
  },
  {
   "cell_type": "code",
   "execution_count": 3,
   "id": "c0e7297a",
   "metadata": {},
   "outputs": [
    {
     "data": {
      "text/plain": [
       "11.42477796076938"
      ]
     },
     "execution_count": 3,
     "metadata": {},
     "output_type": "execute_result"
    }
   ],
   "source": [
    "import math\n",
    "x1=compile(\"2+3*math.pi\",\"<string>\",\"eval\")\n",
    "eval(x1)"
   ]
  },
  {
   "cell_type": "code",
   "execution_count": 4,
   "id": "54a892db",
   "metadata": {},
   "outputs": [
    {
     "data": {
      "text/plain": [
       "14"
      ]
     },
     "execution_count": 4,
     "metadata": {},
     "output_type": "execute_result"
    }
   ],
   "source": [
    "(3*4)+2"
   ]
  },
  {
   "cell_type": "markdown",
   "id": "35525685",
   "metadata": {},
   "source": [
    "Convert minutes to hours "
   ]
  },
  {
   "cell_type": "code",
   "execution_count": 22,
   "id": "33d73b33",
   "metadata": {},
   "outputs": [
    {
     "name": "stdout",
     "output_type": "stream",
     "text": [
      "0 days, 5.0 hours, 0 mins. \n"
     ]
    }
   ],
   "source": [
    "days = 0\n",
    "hours = 0\n",
    "mins = 0\n",
    "time = 300\n",
    "leftoverminutes = time % 1440\n",
    "hours = leftoverminutes / 60\n",
    "print(str(days) + \" days, \" + str(hours) + \" hours, \" + str(mins) +  \" mins. \")"
   ]
  },
  {
   "cell_type": "markdown",
   "id": "ec3580d9",
   "metadata": {},
   "source": [
    "Author: Sheik Arief Abdaly"
   ]
  },
  {
   "cell_type": "code",
   "execution_count": null,
   "id": "dee36bc2",
   "metadata": {},
   "outputs": [],
   "source": []
  }
 ],
 "metadata": {
  "kernelspec": {
   "display_name": "Python 3",
   "language": "python",
   "name": "python3"
  },
  "language_info": {
   "codemirror_mode": {
    "name": "ipython",
    "version": 3
   },
   "file_extension": ".py",
   "mimetype": "text/x-python",
   "name": "python",
   "nbconvert_exporter": "python",
   "pygments_lexer": "ipython3",
   "version": "3.8.8"
  }
 },
 "nbformat": 4,
 "nbformat_minor": 5
}
